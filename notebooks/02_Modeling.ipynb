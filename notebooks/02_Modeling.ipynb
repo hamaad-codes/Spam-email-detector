{
 "cells": [
  {
   "cell_type": "markdown",
   "id": "b638c9ef",
   "metadata": {},
   "source": [
    "Import necessary libraries for data handling and visualization"
   ]
  },
  {
   "cell_type": "code",
   "execution_count": 1,
   "id": "8dd4bb65fc04b11b",
   "metadata": {
    "ExecuteTime": {
     "end_time": "2025-08-03T16:35:35.546287Z",
     "start_time": "2025-08-03T16:35:35.540735Z"
    }
   },
   "outputs": [],
   "source": [
    "import pandas as pd\n",
    "import seaborn as sns\n",
    "import matplotlib.pyplot as plt"
   ]
  },
  {
   "cell_type": "markdown",
   "id": "119b2c91",
   "metadata": {},
   "source": [
    "Import all necessary libraries for training"
   ]
  },
  {
   "cell_type": "code",
   "execution_count": 22,
   "id": "a488f7ef",
   "metadata": {},
   "outputs": [],
   "source": [
    "from sklearn.model_selection import train_test_split\n",
    "from sklearn.feature_extraction.text import TfidfVectorizer\n",
    "from sklearn.linear_model import LogisticRegression\n",
    "from sklearn.metrics import classification_report"
   ]
  },
  {
   "cell_type": "markdown",
   "id": "bc881fe5",
   "metadata": {},
   "source": [
    "Load the CSV file and name the first two columns as 'label' and 'message'\n",
    "\n",
    "Display the first 5 rows"
   ]
  },
  {
   "cell_type": "code",
   "execution_count": 4,
   "id": "f4088aab2abd42f7",
   "metadata": {
    "ExecuteTime": {
     "end_time": "2025-08-03T16:35:52.202423Z",
     "start_time": "2025-08-03T16:35:52.134702Z"
    }
   },
   "outputs": [
    {
     "data": {
      "text/html": [
       "<div>\n",
       "<style scoped>\n",
       "    .dataframe tbody tr th:only-of-type {\n",
       "        vertical-align: middle;\n",
       "    }\n",
       "\n",
       "    .dataframe tbody tr th {\n",
       "        vertical-align: top;\n",
       "    }\n",
       "\n",
       "    .dataframe thead th {\n",
       "        text-align: right;\n",
       "    }\n",
       "</style>\n",
       "<table border=\"1\" class=\"dataframe\">\n",
       "  <thead>\n",
       "    <tr style=\"text-align: right;\">\n",
       "      <th></th>\n",
       "      <th></th>\n",
       "      <th></th>\n",
       "      <th>label</th>\n",
       "      <th>message</th>\n",
       "    </tr>\n",
       "  </thead>\n",
       "  <tbody>\n",
       "    <tr>\n",
       "      <th>v1</th>\n",
       "      <th>v2</th>\n",
       "      <th>NaN</th>\n",
       "      <td>NaN</td>\n",
       "      <td>NaN</td>\n",
       "    </tr>\n",
       "    <tr>\n",
       "      <th rowspan=\"2\" valign=\"top\">ham</th>\n",
       "      <th>Go until jurong point, crazy.. Available only in bugis n great world la e buffet... Cine there got amore wat...</th>\n",
       "      <th>NaN</th>\n",
       "      <td>NaN</td>\n",
       "      <td>NaN</td>\n",
       "    </tr>\n",
       "    <tr>\n",
       "      <th>Ok lar... Joking wif u oni...</th>\n",
       "      <th>NaN</th>\n",
       "      <td>NaN</td>\n",
       "      <td>NaN</td>\n",
       "    </tr>\n",
       "    <tr>\n",
       "      <th>spam</th>\n",
       "      <th>Free entry in 2 a wkly comp to win FA Cup final tkts 21st May 2005. Text FA to 87121 to receive entry question(std txt rate)T&amp;C's apply 08452810075over18's</th>\n",
       "      <th>NaN</th>\n",
       "      <td>NaN</td>\n",
       "      <td>NaN</td>\n",
       "    </tr>\n",
       "    <tr>\n",
       "      <th>ham</th>\n",
       "      <th>U dun say so early hor... U c already then say...</th>\n",
       "      <th>NaN</th>\n",
       "      <td>NaN</td>\n",
       "      <td>NaN</td>\n",
       "    </tr>\n",
       "  </tbody>\n",
       "</table>\n",
       "</div>"
      ],
      "text/plain": [
       "                                                            label message\n",
       "v1   v2                                                 NaN   NaN     NaN\n",
       "ham  Go until jurong point, crazy.. Available only i... NaN   NaN     NaN\n",
       "     Ok lar... Joking wif u oni...                      NaN   NaN     NaN\n",
       "spam Free entry in 2 a wkly comp to win FA Cup final... NaN   NaN     NaN\n",
       "ham  U dun say so early hor... U c already then say...  NaN   NaN     NaN"
      ]
     },
     "execution_count": 4,
     "metadata": {},
     "output_type": "execute_result"
    }
   ],
   "source": [
    "df = pd.read_csv('../data/spam.csv', encoding='latin1', names=[\"label\", \"message\"], header=None)\n",
    "df.head()"
   ]
  },
  {
   "cell_type": "markdown",
   "id": "2edc8918",
   "metadata": {},
   "source": [
    "Drop rows where 'message' is NaN (missing) to ensure only valid messages are used"
   ]
  },
  {
   "cell_type": "code",
   "execution_count": 7,
   "id": "b2e3b446",
   "metadata": {},
   "outputs": [],
   "source": [
    "df = df.dropna(subset=['message'])"
   ]
  },
  {
   "cell_type": "code",
   "execution_count": 8,
   "id": "9eeaaf37",
   "metadata": {},
   "outputs": [
    {
     "data": {
      "text/html": [
       "<div>\n",
       "<style scoped>\n",
       "    .dataframe tbody tr th:only-of-type {\n",
       "        vertical-align: middle;\n",
       "    }\n",
       "\n",
       "    .dataframe tbody tr th {\n",
       "        vertical-align: top;\n",
       "    }\n",
       "\n",
       "    .dataframe thead th {\n",
       "        text-align: right;\n",
       "    }\n",
       "</style>\n",
       "<table border=\"1\" class=\"dataframe\">\n",
       "  <thead>\n",
       "    <tr style=\"text-align: right;\">\n",
       "      <th></th>\n",
       "      <th></th>\n",
       "      <th></th>\n",
       "      <th>label</th>\n",
       "      <th>message</th>\n",
       "    </tr>\n",
       "  </thead>\n",
       "  <tbody>\n",
       "    <tr>\n",
       "      <th rowspan=\"6\" valign=\"top\">ham</th>\n",
       "      <th>\\Wen u miss someone</th>\n",
       "      <th>the person is definitely special for u..... But if the person is so special</th>\n",
       "      <td>why to miss them</td>\n",
       "      <td>just Keep-in-touch\\\" gdeve..\"</td>\n",
       "    </tr>\n",
       "    <tr>\n",
       "      <th>Edison has rightly said, \\A fool can ask more questions than a wise man can answer\\\" Now you know why all of us are speechless during ViVa.. GM</th>\n",
       "      <th>GN</th>\n",
       "      <td>GE</td>\n",
       "      <td>GNT:-)\"</td>\n",
       "    </tr>\n",
       "    <tr>\n",
       "      <th>I just lov this line: \\Hurt me with the truth</th>\n",
       "      <th>I don't mind</th>\n",
       "      <td>i wil tolerat.bcs ur my someone..... But</td>\n",
       "      <td>Never comfort me with a lie\\\" gud ni8 and swe...</td>\n",
       "    </tr>\n",
       "    <tr>\n",
       "      <th>\\HEY BABE! FAR 2 SPUN-OUT 2 SPK AT DA MO... DEAD 2 DA WRLD. BEEN SLEEPING ON DA SOFA ALL DAY</th>\n",
       "      <th>HAD A COOL NYTHO</th>\n",
       "      <td>TX 4 FONIN HON</td>\n",
       "      <td>CALL 2MWEN IM BK FRMCLOUD 9! J X\\\"\"</td>\n",
       "    </tr>\n",
       "    <tr>\n",
       "      <th>When I was born, GOD said, \\Oh No! Another IDIOT\\\". When you were born</th>\n",
       "      <th>GOD said</th>\n",
       "      <td>\\\"OH No! COMPETITION\\\". Who knew</td>\n",
       "      <td>one day these two will become FREINDS FOREVER!\"</td>\n",
       "    </tr>\n",
       "    <tr>\n",
       "      <th>Edison has rightly said, \\A fool can ask more questions than a wise man can answer\\\" Now you know why all of us are speechless during ViVa.. GM</th>\n",
       "      <th>GN</th>\n",
       "      <td>GE</td>\n",
       "      <td>GNT:-)\"</td>\n",
       "    </tr>\n",
       "  </tbody>\n",
       "</table>\n",
       "</div>"
      ],
      "text/plain": [
       "                                                                                                                                              label  \\\n",
       "ham \\Wen u miss someone                                 the person is definitely special for u..... Bu...                          why to miss them   \n",
       "    Edison has rightly said, \\A fool can ask more q... GN                                                                                        GE   \n",
       "    I just lov this line: \\Hurt me with the truth       I don't mind                                       i wil tolerat.bcs ur my someone..... But   \n",
       "    \\HEY BABE! FAR 2 SPUN-OUT 2 SPK AT DA MO... DEA...  HAD A COOL NYTHO                                                             TX 4 FONIN HON   \n",
       "    When I was born, GOD said, \\Oh No! Another IDIO...  GOD said                                                   \\\"OH No! COMPETITION\\\". Who knew   \n",
       "    Edison has rightly said, \\A fool can ask more q... GN                                                                                        GE   \n",
       "\n",
       "                                                                                                                                                     message  \n",
       "ham \\Wen u miss someone                                 the person is definitely special for u..... Bu...                      just Keep-in-touch\\\" gdeve..\"  \n",
       "    Edison has rightly said, \\A fool can ask more q... GN                                                                                            GNT:-)\"  \n",
       "    I just lov this line: \\Hurt me with the truth       I don't mind                                        Never comfort me with a lie\\\" gud ni8 and swe...  \n",
       "    \\HEY BABE! FAR 2 SPUN-OUT 2 SPK AT DA MO... DEA...  HAD A COOL NYTHO                                                 CALL 2MWEN IM BK FRMCLOUD 9! J X\\\"\"  \n",
       "    When I was born, GOD said, \\Oh No! Another IDIO...  GOD said                                             one day these two will become FREINDS FOREVER!\"  \n",
       "    Edison has rightly said, \\A fool can ask more q... GN                                                                                            GNT:-)\"  "
      ]
     },
     "execution_count": 8,
     "metadata": {},
     "output_type": "execute_result"
    }
   ],
   "source": [
    "df"
   ]
  },
  {
   "cell_type": "markdown",
   "id": "1a9b430e",
   "metadata": {},
   "source": [
    "Keep only the first two columns (label and message), discard the rest"
   ]
  },
  {
   "cell_type": "code",
   "execution_count": 10,
   "id": "fd1eb82c",
   "metadata": {},
   "outputs": [],
   "source": [
    "df = pd.read_csv('../data/spam.csv', encoding='latin1', header=None)\n",
    "df = df.iloc[:, :2]  # Only keep first two columns\n",
    "df.columns = ['label', 'message']\n"
   ]
  },
  {
   "cell_type": "markdown",
   "id": "c51a7095",
   "metadata": {},
   "source": [
    "Retain only rows where label is either 'ham' or 'spam' (ignore malformed entries)"
   ]
  },
  {
   "cell_type": "code",
   "execution_count": 11,
   "id": "77f5c68a",
   "metadata": {},
   "outputs": [],
   "source": [
    "df = df[df['label'].isin(['ham', 'spam'])].copy()"
   ]
  },
  {
   "cell_type": "markdown",
   "id": "3b7731ef",
   "metadata": {},
   "source": [
    "Remove rows where message is just whitespace"
   ]
  },
  {
   "cell_type": "code",
   "execution_count": 12,
   "id": "104e13db",
   "metadata": {},
   "outputs": [],
   "source": [
    "df.dropna(subset=['message'], inplace=True)\n",
    "df = df[df['message'].str.strip().astype(bool)]"
   ]
  },
  {
   "cell_type": "markdown",
   "id": "dc69a392",
   "metadata": {},
   "source": [
    "Split dataset into training and test sets (80% train, 20% test)"
   ]
  },
  {
   "cell_type": "code",
   "execution_count": 23,
   "id": "9365b4fa9b1c1867",
   "metadata": {
    "ExecuteTime": {
     "end_time": "2025-08-03T16:36:28.028824Z",
     "start_time": "2025-08-03T16:36:26.885336Z"
    }
   },
   "outputs": [
    {
     "name": "stdout",
     "output_type": "stream",
     "text": [
      "              precision    recall  f1-score   support\n",
      "\n",
      "         ham       0.97      1.00      0.99       964\n",
      "        spam       1.00      0.81      0.90       151\n",
      "\n",
      "    accuracy                           0.97      1115\n",
      "   macro avg       0.99      0.91      0.94      1115\n",
      "weighted avg       0.98      0.97      0.97      1115\n",
      "\n"
     ]
    }
   ],
   "source": [
    "X_train, X_test, y_train, y_test = train_test_split(df['message'], df['label'], test_size=0.2)\n",
    "\n",
    "vectorizer = TfidfVectorizer()\n",
    "X_train_vec = vectorizer.fit_transform(X_train)\n",
    "X_test_vec = vectorizer.transform(X_test)\n",
    "\n",
    "model = LogisticRegression(max_iter=1000)\n",
    "model.fit(X_train_vec, y_train)\n",
    "\n",
    "y_pred = model.predict(X_test_vec)\n",
    "print(classification_report(y_test, y_pred))"
   ]
  },
  {
   "cell_type": "markdown",
   "id": "0aa8f4f7",
   "metadata": {},
   "source": [
    "Save trained model and vectorizer as pickle files"
   ]
  },
  {
   "cell_type": "code",
   "execution_count": 24,
   "id": "6c07c95a",
   "metadata": {},
   "outputs": [
    {
     "data": {
      "text/plain": [
       "['../outputs/spam_model.pkl']"
      ]
     },
     "execution_count": 24,
     "metadata": {},
     "output_type": "execute_result"
    }
   ],
   "source": [
    "import joblib\n",
    "joblib.dump(model, '../outputs/spam_model.pkl')"
   ]
  },
  {
   "cell_type": "code",
   "execution_count": 25,
   "id": "ad6fd1e9",
   "metadata": {},
   "outputs": [
    {
     "data": {
      "text/plain": [
       "['../outputs/vectorizer.pkl']"
      ]
     },
     "execution_count": 25,
     "metadata": {},
     "output_type": "execute_result"
    }
   ],
   "source": [
    "joblib.dump(vectorizer, '../outputs/vectorizer.pkl')"
   ]
  },
  {
   "cell_type": "markdown",
   "id": "831d325a",
   "metadata": {},
   "source": [
    "Compute confusion matrix from predictions\n",
    "\n",
    "Display and save the confusion matrix image"
   ]
  },
  {
   "cell_type": "code",
   "execution_count": 26,
   "id": "0783c238",
   "metadata": {},
   "outputs": [
    {
     "data": {
      "image/png": "[encoded data removed]",
      "text/plain": [
       "<Figure size 640x480 with 2 Axes>"
      ]
     },
     "metadata": {},
     "output_type": "display_data"
    }
   ],
   "source": [
    "from sklearn.metrics import confusion_matrix, ConfusionMatrixDisplay\n",
    "cm = confusion_matrix(y_test, y_pred, labels=model.classes_)\n",
    "disp = ConfusionMatrixDisplay(confusion_matrix=cm, display_labels=model.classes_)\n",
    "disp.plot()\n",
    "plt.savefig('../outputs/confusion_matrix.png')"
   ]
  }
 ],
 "metadata": {
  "kernelspec": {
   "display_name": "venv",
   "language": "python",
   "name": "python3"
  },
  "language_info": {
   "codemirror_mode": {
    "name": "ipython",
    "version": 3
   },
   "file_extension": ".py",
   "mimetype": "text/x-python",
   "name": "python",
   "nbconvert_exporter": "python",
   "pygments_lexer": "ipython3",
   "version": "3.13.3"
  }
 },
 "nbformat": 4,
 "nbformat_minor": 5
}

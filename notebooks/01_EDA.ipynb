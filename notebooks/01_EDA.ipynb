{
 "cells": [
  {
   "cell_type": "markdown",
   "id": "d9a24f67",
   "metadata": {},
   "source": [
    "Importing necessary libraries:\n",
    "\n",
    "-> \"pandas\" for data manipulation\n",
    "\n",
    "-> \"seaborn\" for data visualization\n",
    "\n",
    "-> \"matplotlib.pyplot\" for plotting graphs"
   ]
  },
  {
   "cell_type": "code",
   "execution_count": 6,
   "id": "7664b423",
   "metadata": {
    "ExecuteTime": {
     "end_time": "2025-08-02T17:36:08.338732Z",
     "start_time": "2025-08-02T17:36:08.250542Z"
    }
   },
   "outputs": [],
   "source": [
    "import pandas as pd\n",
    "import seaborn as sns\n",
    "import matplotlib.pyplot as plt\n",
    "\n"
   ]
  },
  {
   "cell_type": "markdown",
   "id": "10685f4d",
   "metadata": {},
   "source": [
    "Reading the CSV file containing spam data.\n",
    "Manually assigning column names:\n",
    "\n",
    "-> \"label\" → indicates whether the message is spam or ham\n",
    "\n",
    "-> \"message\" → the actual text of the email\n",
    "\n",
    "Displaying the first 5 rows using .head()."
   ]
  },
  {
   "cell_type": "code",
   "execution_count": 7,
   "id": "2690ccc3",
   "metadata": {},
   "outputs": [
    {
     "data": {
      "text/html": [
       "<div>\n",
       "<style scoped>\n",
       "    .dataframe tbody tr th:only-of-type {\n",
       "        vertical-align: middle;\n",
       "    }\n",
       "\n",
       "    .dataframe tbody tr th {\n",
       "        vertical-align: top;\n",
       "    }\n",
       "\n",
       "    .dataframe thead th {\n",
       "        text-align: right;\n",
       "    }\n",
       "</style>\n",
       "<table border=\"1\" class=\"dataframe\">\n",
       "  <thead>\n",
       "    <tr style=\"text-align: right;\">\n",
       "      <th></th>\n",
       "      <th></th>\n",
       "      <th></th>\n",
       "      <th>label</th>\n",
       "      <th>message</th>\n",
       "    </tr>\n",
       "  </thead>\n",
       "  <tbody>\n",
       "    <tr>\n",
       "      <th>v1</th>\n",
       "      <th>v2</th>\n",
       "      <th>NaN</th>\n",
       "      <td>NaN</td>\n",
       "      <td>NaN</td>\n",
       "    </tr>\n",
       "    <tr>\n",
       "      <th rowspan=\"2\" valign=\"top\">ham</th>\n",
       "      <th>Go until jurong point, crazy.. Available only in bugis n great world la e buffet... Cine there got amore wat...</th>\n",
       "      <th>NaN</th>\n",
       "      <td>NaN</td>\n",
       "      <td>NaN</td>\n",
       "    </tr>\n",
       "    <tr>\n",
       "      <th>Ok lar... Joking wif u oni...</th>\n",
       "      <th>NaN</th>\n",
       "      <td>NaN</td>\n",
       "      <td>NaN</td>\n",
       "    </tr>\n",
       "    <tr>\n",
       "      <th>spam</th>\n",
       "      <th>Free entry in 2 a wkly comp to win FA Cup final tkts 21st May 2005. Text FA to 87121 to receive entry question(std txt rate)T&amp;C's apply 08452810075over18's</th>\n",
       "      <th>NaN</th>\n",
       "      <td>NaN</td>\n",
       "      <td>NaN</td>\n",
       "    </tr>\n",
       "    <tr>\n",
       "      <th>ham</th>\n",
       "      <th>U dun say so early hor... U c already then say...</th>\n",
       "      <th>NaN</th>\n",
       "      <td>NaN</td>\n",
       "      <td>NaN</td>\n",
       "    </tr>\n",
       "  </tbody>\n",
       "</table>\n",
       "</div>"
      ],
      "text/plain": [
       "                                                            label message\n",
       "v1   v2                                                 NaN   NaN     NaN\n",
       "ham  Go until jurong point, crazy.. Available only i... NaN   NaN     NaN\n",
       "     Ok lar... Joking wif u oni...                      NaN   NaN     NaN\n",
       "spam Free entry in 2 a wkly comp to win FA Cup final... NaN   NaN     NaN\n",
       "ham  U dun say so early hor... U c already then say...  NaN   NaN     NaN"
      ]
     },
     "execution_count": 7,
     "metadata": {},
     "output_type": "execute_result"
    }
   ],
   "source": [
    "df = pd.read_csv('../data/spam.csv', encoding='latin1', names=[\"label\", \"message\"], header=None)\n",
    "df.head()"
   ]
  },
  {
   "cell_type": "markdown",
   "id": "4109b2ca",
   "metadata": {},
   "source": [
    "Printing the column names of the DataFrame to verify that they were correctly assigned."
   ]
  },
  {
   "cell_type": "code",
   "execution_count": 11,
   "id": "9dfc9faa",
   "metadata": {},
   "outputs": [
    {
     "name": "stdout",
     "output_type": "stream",
     "text": [
      "Index(['label', 'message'], dtype='object')\n"
     ]
    }
   ],
   "source": [
    "print(df.columns)\n"
   ]
  },
  {
   "cell_type": "markdown",
   "id": "32e12fad",
   "metadata": {},
   "source": [
    "Replacing all columns except the first two (label and message) with empty strings.\n",
    "\n",
    "This is done to clean up unnecessary columns from the dataset."
   ]
  },
  {
   "cell_type": "code",
   "execution_count": null,
   "id": "7f4f7533",
   "metadata": {},
   "outputs": [],
   "source": [
    "df.iloc[:, 2:] = \"\""
   ]
  },
  {
   "cell_type": "markdown",
   "id": "8bbce67f",
   "metadata": {},
   "source": [
    "Checking the first 5 rows again after cleaning to confirm the extra columns were successfully emptied."
   ]
  },
  {
   "cell_type": "code",
   "execution_count": 16,
   "id": "2d3d28de",
   "metadata": {},
   "outputs": [
    {
     "name": "stdout",
     "output_type": "stream",
     "text": [
      "  label                                            message\n",
      "0    v1                                                 v2\n",
      "1   ham  Go until jurong point, crazy.. Available only ...\n",
      "2   ham                      Ok lar... Joking wif u oni...\n",
      "3  spam  Free entry in 2 a wkly comp to win FA Cup fina...\n",
      "4   ham  U dun say so early hor... U c already then say...\n"
     ]
    }
   ],
   "source": [
    "print(df.head())"
   ]
  },
  {
   "cell_type": "markdown",
   "id": "f63c924d",
   "metadata": {},
   "source": [
    "Plotting the count of spam vs ham messages using a bar chart.\n",
    "\n",
    "Helps visualize the class distribution in the dataset (i.e., how many spam and how many ham messages)."
   ]
  },
  {
   "cell_type": "code",
   "execution_count": 14,
   "id": "8f71a4cb",
   "metadata": {},
   "outputs": [
    {
     "data": {
      "image/png": "[encoded data removed]",
      "text/plain": [
       "<Figure size 640x480 with 1 Axes>"
      ]
     },
     "metadata": {},
     "output_type": "display_data"
    }
   ],
   "source": [
    "# # Check spam vs ham counts\n",
    "sns.countplot(x='label', data=df)\n",
    "plt.show()"
   ]
  },
  {
   "cell_type": "markdown",
   "id": "dbc26bb2",
   "metadata": {},
   "source": [
    "Save the clean csv file"
   ]
  },
  {
   "cell_type": "code",
   "execution_count": 17,
   "id": "b7270513",
   "metadata": {},
   "outputs": [],
   "source": [
    "df.to_csv('cleaned_data.csv', index=False)\n"
   ]
  }
 ],
 "metadata": {
  "kernelspec": {
   "display_name": "venv",
   "language": "python",
   "name": "python3"
  },
  "language_info": {
   "codemirror_mode": {
    "name": "ipython",
    "version": 3
   },
   "file_extension": ".py",
   "mimetype": "text/x-python",
   "name": "python",
   "nbconvert_exporter": "python",
   "pygments_lexer": "ipython3",
   "version": "3.13.3"
  }
 },
 "nbformat": 4,
 "nbformat_minor": 5
}
